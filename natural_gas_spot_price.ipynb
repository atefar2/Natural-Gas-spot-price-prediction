{
  "nbformat": 4,
  "nbformat_minor": 0,
  "metadata": {
    "colab": {
      "name": "natural gas spot price.ipynb",
      "provenance": [],
      "collapsed_sections": [],
      "include_colab_link": true
    },
    "kernelspec": {
      "name": "python3",
      "display_name": "Python 3"
    },
    "accelerator": "GPU"
  },
  "cells": [
    {
      "cell_type": "markdown",
      "metadata": {
        "id": "view-in-github",
        "colab_type": "text"
      },
      "source": [
        "<a href=\"https://colab.research.google.com/github/saritmaitra/Natural-Gas-spot-price-prediction/blob/master/natural_gas_spot_price.ipynb\" target=\"_parent\"><img src=\"https://colab.research.google.com/assets/colab-badge.svg\" alt=\"Open In Colab\"/></a>"
      ]
    },
    {
      "cell_type": "code",
      "metadata": {
        "id": "VIz4dbF_DJsN",
        "colab_type": "code",
        "colab": {}
      },
      "source": [
        "import pandas as pd\n",
        "import pywt\n",
        "import numpy as np\n",
        "import matplotlib.pyplot as plt\n",
        "import statsmodels.api as sm  \n",
        "from datetime import datetime\n",
        "import math\n",
        "import scipy as sp\n",
        "import sklearn\n",
        "from sklearn.neural_network import MLPRegressor"
      ],
      "execution_count": 0,
      "outputs": []
    },
    {
      "cell_type": "code",
      "metadata": {
        "id": "vld1Vk3PxXvu",
        "colab_type": "code",
        "outputId": "095646ac-f6d4-4a6e-c8a1-d29c2b9ea790",
        "colab": {
          "base_uri": "https://localhost:8080/",
          "height": 218
        }
      },
      "source": [
        "pip install bokeh"
      ],
      "execution_count": 0,
      "outputs": [
        {
          "output_type": "stream",
          "text": [
            "Requirement already satisfied: bokeh in /usr/local/lib/python3.6/dist-packages (1.0.4)\n",
            "Requirement already satisfied: packaging>=16.8 in /usr/local/lib/python3.6/dist-packages (from bokeh) (19.2)\n",
            "Requirement already satisfied: six>=1.5.2 in /usr/local/lib/python3.6/dist-packages (from bokeh) (1.12.0)\n",
            "Requirement already satisfied: PyYAML>=3.10 in /usr/local/lib/python3.6/dist-packages (from bokeh) (3.13)\n",
            "Requirement already satisfied: pillow>=4.0 in /usr/local/lib/python3.6/dist-packages (from bokeh) (4.3.0)\n",
            "Requirement already satisfied: numpy>=1.7.1 in /usr/local/lib/python3.6/dist-packages (from bokeh) (1.17.3)\n",
            "Requirement already satisfied: Jinja2>=2.7 in /usr/local/lib/python3.6/dist-packages (from bokeh) (2.10.3)\n",
            "Requirement already satisfied: python-dateutil>=2.1 in /usr/local/lib/python3.6/dist-packages (from bokeh) (2.6.1)\n",
            "Requirement already satisfied: tornado>=4.3 in /usr/local/lib/python3.6/dist-packages (from bokeh) (4.5.3)\n",
            "Requirement already satisfied: pyparsing>=2.0.2 in /usr/local/lib/python3.6/dist-packages (from packaging>=16.8->bokeh) (2.4.2)\n",
            "Requirement already satisfied: olefile in /usr/local/lib/python3.6/dist-packages (from pillow>=4.0->bokeh) (0.46)\n",
            "Requirement already satisfied: MarkupSafe>=0.23 in /usr/local/lib/python3.6/dist-packages (from Jinja2>=2.7->bokeh) (1.1.1)\n"
          ],
          "name": "stdout"
        }
      ]
    },
    {
      "cell_type": "code",
      "metadata": {
        "id": "uORqPvjeDRNY",
        "colab_type": "code",
        "outputId": "7e646cb5-6788-4cff-ba43-5b27cbf9ec46",
        "colab": {
          "resources": {
            "http://localhost:8080/nbextensions/google.colab/files.js": {
              "data": "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",
              "ok": true,
              "headers": [
                [
                  "content-type",
                  "application/javascript"
                ]
              ],
              "status": 200,
              "status_text": ""
            }
          },
          "base_uri": "https://localhost:8080/",
          "height": 74
        }
      },
      "source": [
        "from google.colab import files\n",
        "uploaded = files.upload()"
      ],
      "execution_count": 0,
      "outputs": [
        {
          "output_type": "display_data",
          "data": {
            "text/html": [
              "\n",
              "     <input type=\"file\" id=\"files-fc92fe60-3706-4b43-83c8-d7cea334668a\" name=\"files[]\" multiple disabled />\n",
              "     <output id=\"result-fc92fe60-3706-4b43-83c8-d7cea334668a\">\n",
              "      Upload widget is only available when the cell has been executed in the\n",
              "      current browser session. Please rerun this cell to enable.\n",
              "      </output>\n",
              "      <script src=\"/nbextensions/google.colab/files.js\"></script> "
            ],
            "text/plain": [
              "<IPython.core.display.HTML object>"
            ]
          },
          "metadata": {
            "tags": []
          }
        },
        {
          "output_type": "stream",
          "text": [
            "Saving Natural_Gas_Spot_Price .xlsx to Natural_Gas_Spot_Price .xlsx\n"
          ],
          "name": "stdout"
        }
      ]
    },
    {
      "cell_type": "code",
      "metadata": {
        "id": "BBbtncDVDpoD",
        "colab_type": "code",
        "outputId": "e81bfdb7-34e9-4eaa-beb5-16d425d1c385",
        "colab": {
          "base_uri": "https://localhost:8080/",
          "height": 343
        }
      },
      "source": [
        "df = pd.read_excel('Natural_Gas_Spot_Price .xlsx')\n",
        "df.head(10)"
      ],
      "execution_count": 0,
      "outputs": [
        {
          "output_type": "execute_result",
          "data": {
            "text/html": [
              "<div>\n",
              "<style scoped>\n",
              "    .dataframe tbody tr th:only-of-type {\n",
              "        vertical-align: middle;\n",
              "    }\n",
              "\n",
              "    .dataframe tbody tr th {\n",
              "        vertical-align: top;\n",
              "    }\n",
              "\n",
              "    .dataframe thead th {\n",
              "        text-align: right;\n",
              "    }\n",
              "</style>\n",
              "<table border=\"1\" class=\"dataframe\">\n",
              "  <thead>\n",
              "    <tr style=\"text-align: right;\">\n",
              "      <th></th>\n",
              "      <th>Day</th>\n",
              "      <th>Henry Hub Natural Gas Spot Price Dollars per Million Btu</th>\n",
              "    </tr>\n",
              "  </thead>\n",
              "  <tbody>\n",
              "    <tr>\n",
              "      <th>0</th>\n",
              "      <td>1997-01-07</td>\n",
              "      <td>3.82</td>\n",
              "    </tr>\n",
              "    <tr>\n",
              "      <th>1</th>\n",
              "      <td>1997-01-08</td>\n",
              "      <td>3.80</td>\n",
              "    </tr>\n",
              "    <tr>\n",
              "      <th>2</th>\n",
              "      <td>1997-01-09</td>\n",
              "      <td>3.61</td>\n",
              "    </tr>\n",
              "    <tr>\n",
              "      <th>3</th>\n",
              "      <td>1997-01-10</td>\n",
              "      <td>3.92</td>\n",
              "    </tr>\n",
              "    <tr>\n",
              "      <th>4</th>\n",
              "      <td>1997-01-13</td>\n",
              "      <td>4.00</td>\n",
              "    </tr>\n",
              "    <tr>\n",
              "      <th>5</th>\n",
              "      <td>1997-01-14</td>\n",
              "      <td>4.01</td>\n",
              "    </tr>\n",
              "    <tr>\n",
              "      <th>6</th>\n",
              "      <td>1997-01-15</td>\n",
              "      <td>4.34</td>\n",
              "    </tr>\n",
              "    <tr>\n",
              "      <th>7</th>\n",
              "      <td>1997-01-16</td>\n",
              "      <td>4.71</td>\n",
              "    </tr>\n",
              "    <tr>\n",
              "      <th>8</th>\n",
              "      <td>1997-01-17</td>\n",
              "      <td>3.91</td>\n",
              "    </tr>\n",
              "    <tr>\n",
              "      <th>9</th>\n",
              "      <td>1997-01-20</td>\n",
              "      <td>3.26</td>\n",
              "    </tr>\n",
              "  </tbody>\n",
              "</table>\n",
              "</div>"
            ],
            "text/plain": [
              "         Day  Henry Hub Natural Gas Spot Price Dollars per Million Btu\n",
              "0 1997-01-07                                               3.82       \n",
              "1 1997-01-08                                               3.80       \n",
              "2 1997-01-09                                               3.61       \n",
              "3 1997-01-10                                               3.92       \n",
              "4 1997-01-13                                               4.00       \n",
              "5 1997-01-14                                               4.01       \n",
              "6 1997-01-15                                               4.34       \n",
              "7 1997-01-16                                               4.71       \n",
              "8 1997-01-17                                               3.91       \n",
              "9 1997-01-20                                               3.26       "
            ]
          },
          "metadata": {
            "tags": []
          },
          "execution_count": 3
        }
      ]
    },
    {
      "cell_type": "code",
      "metadata": {
        "id": "owopvggLFyIX",
        "colab_type": "code",
        "outputId": "96f420ad-573e-40f4-8f1a-5de0d148e064",
        "colab": {
          "base_uri": "https://localhost:8080/",
          "height": 195
        }
      },
      "source": [
        "# Rename columns \n",
        "df= df.rename(\n",
        "    columns={\n",
        "        \"Henry Hub Natural Gas Spot Price Dollars per Million Btu\": \"gas price\",\n",
        "        \"Day\": \"date\"\n",
        "    }\n",
        ")\n",
        "df.head()"
      ],
      "execution_count": 0,
      "outputs": [
        {
          "output_type": "execute_result",
          "data": {
            "text/html": [
              "<div>\n",
              "<style scoped>\n",
              "    .dataframe tbody tr th:only-of-type {\n",
              "        vertical-align: middle;\n",
              "    }\n",
              "\n",
              "    .dataframe tbody tr th {\n",
              "        vertical-align: top;\n",
              "    }\n",
              "\n",
              "    .dataframe thead th {\n",
              "        text-align: right;\n",
              "    }\n",
              "</style>\n",
              "<table border=\"1\" class=\"dataframe\">\n",
              "  <thead>\n",
              "    <tr style=\"text-align: right;\">\n",
              "      <th></th>\n",
              "      <th>date</th>\n",
              "      <th>gas price</th>\n",
              "    </tr>\n",
              "  </thead>\n",
              "  <tbody>\n",
              "    <tr>\n",
              "      <th>0</th>\n",
              "      <td>1997-01-07</td>\n",
              "      <td>3.82</td>\n",
              "    </tr>\n",
              "    <tr>\n",
              "      <th>1</th>\n",
              "      <td>1997-01-08</td>\n",
              "      <td>3.80</td>\n",
              "    </tr>\n",
              "    <tr>\n",
              "      <th>2</th>\n",
              "      <td>1997-01-09</td>\n",
              "      <td>3.61</td>\n",
              "    </tr>\n",
              "    <tr>\n",
              "      <th>3</th>\n",
              "      <td>1997-01-10</td>\n",
              "      <td>3.92</td>\n",
              "    </tr>\n",
              "    <tr>\n",
              "      <th>4</th>\n",
              "      <td>1997-01-13</td>\n",
              "      <td>4.00</td>\n",
              "    </tr>\n",
              "  </tbody>\n",
              "</table>\n",
              "</div>"
            ],
            "text/plain": [
              "        date  gas price\n",
              "0 1997-01-07       3.82\n",
              "1 1997-01-08       3.80\n",
              "2 1997-01-09       3.61\n",
              "3 1997-01-10       3.92\n",
              "4 1997-01-13       4.00"
            ]
          },
          "metadata": {
            "tags": []
          },
          "execution_count": 4
        }
      ]
    },
    {
      "cell_type": "code",
      "metadata": {
        "id": "ItmugwoCbK5D",
        "colab_type": "code",
        "outputId": "dd73a16a-4a92-46f5-8392-2a1c39322977",
        "colab": {
          "base_uri": "https://localhost:8080/",
          "height": 225
        }
      },
      "source": [
        "df = df.set_index('date')\n",
        "df = df.sort_index()\n",
        "df.head()"
      ],
      "execution_count": 0,
      "outputs": [
        {
          "output_type": "execute_result",
          "data": {
            "text/html": [
              "<div>\n",
              "<style scoped>\n",
              "    .dataframe tbody tr th:only-of-type {\n",
              "        vertical-align: middle;\n",
              "    }\n",
              "\n",
              "    .dataframe tbody tr th {\n",
              "        vertical-align: top;\n",
              "    }\n",
              "\n",
              "    .dataframe thead th {\n",
              "        text-align: right;\n",
              "    }\n",
              "</style>\n",
              "<table border=\"1\" class=\"dataframe\">\n",
              "  <thead>\n",
              "    <tr style=\"text-align: right;\">\n",
              "      <th></th>\n",
              "      <th>gas price</th>\n",
              "    </tr>\n",
              "    <tr>\n",
              "      <th>date</th>\n",
              "      <th></th>\n",
              "    </tr>\n",
              "  </thead>\n",
              "  <tbody>\n",
              "    <tr>\n",
              "      <th>1997-01-07</th>\n",
              "      <td>3.82</td>\n",
              "    </tr>\n",
              "    <tr>\n",
              "      <th>1997-01-08</th>\n",
              "      <td>3.80</td>\n",
              "    </tr>\n",
              "    <tr>\n",
              "      <th>1997-01-09</th>\n",
              "      <td>3.61</td>\n",
              "    </tr>\n",
              "    <tr>\n",
              "      <th>1997-01-10</th>\n",
              "      <td>3.92</td>\n",
              "    </tr>\n",
              "    <tr>\n",
              "      <th>1997-01-13</th>\n",
              "      <td>4.00</td>\n",
              "    </tr>\n",
              "  </tbody>\n",
              "</table>\n",
              "</div>"
            ],
            "text/plain": [
              "            gas price\n",
              "date                 \n",
              "1997-01-07       3.82\n",
              "1997-01-08       3.80\n",
              "1997-01-09       3.61\n",
              "1997-01-10       3.92\n",
              "1997-01-13       4.00"
            ]
          },
          "metadata": {
            "tags": []
          },
          "execution_count": 5
        }
      ]
    },
    {
      "cell_type": "code",
      "metadata": {
        "id": "EJSHlQuIE_f5",
        "colab_type": "code",
        "outputId": "0dee323f-4f73-49dc-f88d-ea0accd1ff36",
        "colab": {
          "base_uri": "https://localhost:8080/",
          "height": 50
        }
      },
      "source": [
        "df.isnull().sum()"
      ],
      "execution_count": 0,
      "outputs": [
        {
          "output_type": "execute_result",
          "data": {
            "text/plain": [
              "gas price    1\n",
              "dtype: int64"
            ]
          },
          "metadata": {
            "tags": []
          },
          "execution_count": 6
        }
      ]
    },
    {
      "cell_type": "code",
      "metadata": {
        "id": "57jVq-c5KXKr",
        "colab_type": "code",
        "outputId": "f892fbc2-b817-4537-8bc3-0546779c8977",
        "colab": {
          "base_uri": "https://localhost:8080/",
          "height": 50
        }
      },
      "source": [
        "df = df.fillna(method ='pad') # filling the missing values with previous ones \n",
        "df.isnull().sum()"
      ],
      "execution_count": 0,
      "outputs": [
        {
          "output_type": "execute_result",
          "data": {
            "text/plain": [
              "gas price    0\n",
              "dtype: int64"
            ]
          },
          "metadata": {
            "tags": []
          },
          "execution_count": 7
        }
      ]
    },
    {
      "cell_type": "code",
      "metadata": {
        "id": "vcTCte03K-oL",
        "colab_type": "code",
        "outputId": "3e719b63-098a-4147-b79b-12787bf0b252",
        "colab": {
          "base_uri": "https://localhost:8080/",
          "height": 225
        }
      },
      "source": [
        "df.head()"
      ],
      "execution_count": 0,
      "outputs": [
        {
          "output_type": "execute_result",
          "data": {
            "text/html": [
              "<div>\n",
              "<style scoped>\n",
              "    .dataframe tbody tr th:only-of-type {\n",
              "        vertical-align: middle;\n",
              "    }\n",
              "\n",
              "    .dataframe tbody tr th {\n",
              "        vertical-align: top;\n",
              "    }\n",
              "\n",
              "    .dataframe thead th {\n",
              "        text-align: right;\n",
              "    }\n",
              "</style>\n",
              "<table border=\"1\" class=\"dataframe\">\n",
              "  <thead>\n",
              "    <tr style=\"text-align: right;\">\n",
              "      <th></th>\n",
              "      <th>gas price</th>\n",
              "    </tr>\n",
              "    <tr>\n",
              "      <th>date</th>\n",
              "      <th></th>\n",
              "    </tr>\n",
              "  </thead>\n",
              "  <tbody>\n",
              "    <tr>\n",
              "      <th>1997-01-07</th>\n",
              "      <td>3.82</td>\n",
              "    </tr>\n",
              "    <tr>\n",
              "      <th>1997-01-08</th>\n",
              "      <td>3.80</td>\n",
              "    </tr>\n",
              "    <tr>\n",
              "      <th>1997-01-09</th>\n",
              "      <td>3.61</td>\n",
              "    </tr>\n",
              "    <tr>\n",
              "      <th>1997-01-10</th>\n",
              "      <td>3.92</td>\n",
              "    </tr>\n",
              "    <tr>\n",
              "      <th>1997-01-13</th>\n",
              "      <td>4.00</td>\n",
              "    </tr>\n",
              "  </tbody>\n",
              "</table>\n",
              "</div>"
            ],
            "text/plain": [
              "            gas price\n",
              "date                 \n",
              "1997-01-07       3.82\n",
              "1997-01-08       3.80\n",
              "1997-01-09       3.61\n",
              "1997-01-10       3.92\n",
              "1997-01-13       4.00"
            ]
          },
          "metadata": {
            "tags": []
          },
          "execution_count": 8
        }
      ]
    },
    {
      "cell_type": "code",
      "metadata": {
        "id": "4cdlKWQ6KlnT",
        "colab_type": "code",
        "outputId": "334daf9c-dd3f-4b28-e2d0-ad841d866604",
        "colab": {
          "base_uri": "https://localhost:8080/",
          "height": 151
        }
      },
      "source": [
        "df.index"
      ],
      "execution_count": 0,
      "outputs": [
        {
          "output_type": "execute_result",
          "data": {
            "text/plain": [
              "DatetimeIndex(['1997-01-07', '1997-01-08', '1997-01-09', '1997-01-10',\n",
              "               '1997-01-13', '1997-01-14', '1997-01-15', '1997-01-16',\n",
              "               '1997-01-17', '1997-01-20',\n",
              "               ...\n",
              "               '2019-10-08', '2019-10-09', '2019-10-10', '2019-10-11',\n",
              "               '2019-10-14', '2019-10-15', '2019-10-16', '2019-10-17',\n",
              "               '2019-10-18', '2019-10-21'],\n",
              "              dtype='datetime64[ns]', name='date', length=5732, freq=None)"
            ]
          },
          "metadata": {
            "tags": []
          },
          "execution_count": 8
        }
      ]
    },
    {
      "cell_type": "code",
      "metadata": {
        "id": "wwhWdXABGN9P",
        "colab_type": "code",
        "outputId": "416f91a8-db82-47bb-b8b3-daac5af8980d",
        "colab": {
          "base_uri": "https://localhost:8080/",
          "height": 383
        }
      },
      "source": [
        "df.plot(figsize=(10, 6))\n",
        "plt.title('Daily Natural Gas Spot Prices', fontsize=12)\n",
        "plt.ylabel('Dollars per Million Btu', fontsize=12)\n",
        "plt.show()"
      ],
      "execution_count": 0,
      "outputs": [
        {
          "output_type": "display_data",
          "data": {
            "image/png": "[encoded data removed]",
            "text/plain": [
              "<Figure size 720x432 with 1 Axes>"
            ]
          },
          "metadata": {
            "tags": []
          }
        }
      ]
    },
    {
      "cell_type": "code",
      "metadata": {
        "id": "8x2NRVyUKxOT",
        "colab_type": "code",
        "outputId": "3cbc7275-91ee-4c97-cc8c-c8b64058cd72",
        "colab": {
          "base_uri": "https://localhost:8080/",
          "height": 284
        }
      },
      "source": [
        "df.describe()"
      ],
      "execution_count": 0,
      "outputs": [
        {
          "output_type": "execute_result",
          "data": {
            "text/html": [
              "<div>\n",
              "<style scoped>\n",
              "    .dataframe tbody tr th:only-of-type {\n",
              "        vertical-align: middle;\n",
              "    }\n",
              "\n",
              "    .dataframe tbody tr th {\n",
              "        vertical-align: top;\n",
              "    }\n",
              "\n",
              "    .dataframe thead th {\n",
              "        text-align: right;\n",
              "    }\n",
              "</style>\n",
              "<table border=\"1\" class=\"dataframe\">\n",
              "  <thead>\n",
              "    <tr style=\"text-align: right;\">\n",
              "      <th></th>\n",
              "      <th>gas price</th>\n",
              "    </tr>\n",
              "  </thead>\n",
              "  <tbody>\n",
              "    <tr>\n",
              "      <th>count</th>\n",
              "      <td>5732.000000</td>\n",
              "    </tr>\n",
              "    <tr>\n",
              "      <th>mean</th>\n",
              "      <td>4.269532</td>\n",
              "    </tr>\n",
              "    <tr>\n",
              "      <th>std</th>\n",
              "      <td>2.187236</td>\n",
              "    </tr>\n",
              "    <tr>\n",
              "      <th>min</th>\n",
              "      <td>1.050000</td>\n",
              "    </tr>\n",
              "    <tr>\n",
              "      <th>25%</th>\n",
              "      <td>2.740000</td>\n",
              "    </tr>\n",
              "    <tr>\n",
              "      <th>50%</th>\n",
              "      <td>3.620000</td>\n",
              "    </tr>\n",
              "    <tr>\n",
              "      <th>75%</th>\n",
              "      <td>5.332500</td>\n",
              "    </tr>\n",
              "    <tr>\n",
              "      <th>max</th>\n",
              "      <td>18.480000</td>\n",
              "    </tr>\n",
              "  </tbody>\n",
              "</table>\n",
              "</div>"
            ],
            "text/plain": [
              "         gas price\n",
              "count  5732.000000\n",
              "mean      4.269532\n",
              "std       2.187236\n",
              "min       1.050000\n",
              "25%       2.740000\n",
              "50%       3.620000\n",
              "75%       5.332500\n",
              "max      18.480000"
            ]
          },
          "metadata": {
            "tags": []
          },
          "execution_count": 9
        }
      ]
    },
    {
      "cell_type": "code",
      "metadata": {
        "id": "KwXPJiX4eZka",
        "colab_type": "code",
        "outputId": "490bd8fe-b58f-4847-ad6e-d11104999001",
        "colab": {
          "base_uri": "https://localhost:8080/",
          "height": 118
        }
      },
      "source": [
        "df.info()"
      ],
      "execution_count": 0,
      "outputs": [
        {
          "output_type": "stream",
          "text": [
            "<class 'pandas.core.frame.DataFrame'>\n",
            "DatetimeIndex: 5732 entries, 1997-01-07 to 2019-10-21\n",
            "Data columns (total 1 columns):\n",
            "gas price    5732 non-null float64\n",
            "dtypes: float64(1)\n",
            "memory usage: 89.6 KB\n"
          ],
          "name": "stdout"
        }
      ]
    },
    {
      "cell_type": "markdown",
      "metadata": {
        "id": "2d8EGFZyjhjn",
        "colab_type": "text"
      },
      "source": [
        "### Splitting Data into a Training set and a Test set"
      ]
    },
    {
      "cell_type": "code",
      "metadata": {
        "id": "FkMNHWWTrcIu",
        "colab_type": "code",
        "outputId": "4c68ceb9-92e9-42b2-f71f-944c6b1dea44",
        "colab": {
          "base_uri": "https://localhost:8080/",
          "height": 67
        }
      },
      "source": [
        "train_data = df['1997-01-07':'2018-12-31']\n",
        "test_data  = df['2019-01-01':]\n",
        "print('Observations: %d' % (len(df)))\n",
        "print('Train Dataset:',train_data.shape)\n",
        "print('Test Dataset:', test_data.shape)"
      ],
      "execution_count": 0,
      "outputs": [
        {
          "output_type": "stream",
          "text": [
            "Observations: 5732\n",
            "Train Dataset: (5530, 1)\n",
            "Test Dataset: (202, 1)\n"
          ],
          "name": "stdout"
        }
      ]
    },
    {
      "cell_type": "code",
      "metadata": {
        "id": "fWifNLJoJZKz",
        "colab_type": "code",
        "outputId": "8cedcf5e-44db-4555-ba24-10617d9027af",
        "colab": {
          "base_uri": "https://localhost:8080/",
          "height": 50
        }
      },
      "source": [
        "train_data.isnull().sum()"
      ],
      "execution_count": 0,
      "outputs": [
        {
          "output_type": "execute_result",
          "data": {
            "text/plain": [
              "gas price    0\n",
              "dtype: int64"
            ]
          },
          "metadata": {
            "tags": []
          },
          "execution_count": 63
        }
      ]
    },
    {
      "cell_type": "code",
      "metadata": {
        "id": "1T08WfeFoUli",
        "colab_type": "code",
        "outputId": "869286c6-d8a0-466f-92ab-05ce24d4dafb",
        "colab": {
          "base_uri": "https://localhost:8080/",
          "height": 384
        }
      },
      "source": [
        "plt.figure(figsize=(10, 6))\n",
        "ax = train_data.plot(figsize=(10, 6))\n",
        "test_data.plot(ax=ax)\n",
        "plt.legend(['train', 'test']);"
      ],
      "execution_count": 0,
      "outputs": [
        {
          "output_type": "display_data",
          "data": {
            "text/plain": [
              "<Figure size 720x432 with 0 Axes>"
            ]
          },
          "metadata": {
            "tags": []
          }
        },
        {
          "output_type": "display_data",
          "data": {
            "image/png": "[encoded data removed]",
            "text/plain": [
              "<Figure size 720x432 with 1 Axes>"
            ]
          },
          "metadata": {
            "tags": []
          }
        }
      ]
    },
    {
      "cell_type": "code",
      "metadata": {
        "id": "kZMxi7Scr58X",
        "colab_type": "code",
        "outputId": "3836418c-490e-4056-87fe-96d4d59d3767",
        "colab": {
          "base_uri": "https://localhost:8080/",
          "height": 134
        }
      },
      "source": [
        "from sklearn.preprocessing import MinMaxScaler\n",
        "scaler = MinMaxScaler(feature_range = (0,1))\n",
        "train_data_scaled = scaler.fit_transform(train_data)\n",
        "print(train_data_scaled)"
      ],
      "execution_count": 0,
      "outputs": [
        {
          "output_type": "stream",
          "text": [
            "[[0.1589214 ]\n",
            " [0.15777395]\n",
            " [0.14687321]\n",
            " ...\n",
            " [0.13597246]\n",
            " [0.11761331]\n",
            " [0.12621916]]\n"
          ],
          "name": "stdout"
        }
      ]
    },
    {
      "cell_type": "code",
      "metadata": {
        "id": "S1BOdDutbWyY",
        "colab_type": "code",
        "colab": {}
      },
      "source": [
        "# creating a data structure with 60 time steps and 1 output.\n",
        "X_train = []\n",
        "y_train = []\n",
        "\n",
        "for i in range(60, len(train_data_scaled)):\n",
        "  X_train.append(train_data_scaled[i-60:i,0])\n",
        "  y_train.append(train_data_scaled[i,0])\n",
        "  \n",
        "X_train, y_train = np.array(X_train), np.array(y_train)"
      ],
      "execution_count": 0,
      "outputs": []
    },
    {
      "cell_type": "code",
      "metadata": {
        "id": "0Z8jrKZP4efs",
        "colab_type": "code",
        "outputId": "149ea8da-3d57-449e-f2cb-4e55345f19eb",
        "colab": {
          "base_uri": "https://localhost:8080/",
          "height": 1000
        }
      },
      "source": [
        "test_data_scaled = scaler.fit_transform(test_data)\n",
        "print(test_data_scaled)"
      ],
      "execution_count": 0,
      "outputs": [
        {
          "output_type": "stream",
          "text": [
            "[[0.55156951]\n",
            " [0.31390135]\n",
            " [0.34977578]\n",
            " [0.32286996]\n",
            " [0.39013453]\n",
            " [0.40358744]\n",
            " [0.41704036]\n",
            " [0.41704036]\n",
            " [0.60089686]\n",
            " [0.68161435]\n",
            " [0.69955157]\n",
            " [0.69955157]\n",
            " [0.632287  ]\n",
            " [0.632287  ]\n",
            " [0.49775785]\n",
            " [0.49775785]\n",
            " [0.47085202]\n",
            " [0.46188341]\n",
            " [0.41255605]\n",
            " [0.43946188]\n",
            " [0.35874439]\n",
            " [0.30493274]\n",
            " [0.24663677]\n",
            " [0.23318386]\n",
            " [0.25112108]\n",
            " [0.2690583 ]\n",
            " [0.28699552]\n",
            " [0.33183857]\n",
            " [0.30941704]\n",
            " [0.26457399]\n",
            " [0.26457399]\n",
            " [0.25560538]\n",
            " [0.30044843]\n",
            " [0.30044843]\n",
            " [0.31838565]\n",
            " [0.32286996]\n",
            " [0.367713  ]\n",
            " [0.32286996]\n",
            " [0.39013453]\n",
            " [0.39013453]\n",
            " [0.52466368]\n",
            " [1.        ]\n",
            " [0.52017937]\n",
            " [0.52017937]\n",
            " [0.39461883]\n",
            " [0.39461883]\n",
            " [0.37668161]\n",
            " [0.3632287 ]\n",
            " [0.38116592]\n",
            " [0.41704036]\n",
            " [0.41704036]\n",
            " [0.39461883]\n",
            " [0.40358744]\n",
            " [0.37668161]\n",
            " [0.37668161]\n",
            " [0.32735426]\n",
            " [0.31390135]\n",
            " [0.32286996]\n",
            " [0.30044843]\n",
            " [0.30044843]\n",
            " [0.31838565]\n",
            " [0.31838565]\n",
            " [0.33183857]\n",
            " [0.32286996]\n",
            " [0.28699552]\n",
            " [0.2690583 ]\n",
            " [0.31390135]\n",
            " [0.30941704]\n",
            " [0.31390135]\n",
            " [0.31390135]\n",
            " [0.32735426]\n",
            " [0.32735426]\n",
            " [0.28699552]\n",
            " [0.23766816]\n",
            " [0.23318386]\n",
            " [0.26457399]\n",
            " [0.22869955]\n",
            " [0.22869955]\n",
            " [0.23318386]\n",
            " [0.25112108]\n",
            " [0.25112108]\n",
            " [0.25560538]\n",
            " [0.25560538]\n",
            " [0.2735426 ]\n",
            " [0.25560538]\n",
            " [0.23318386]\n",
            " [0.23318386]\n",
            " [0.27802691]\n",
            " [0.2690583 ]\n",
            " [0.27802691]\n",
            " [0.30941704]\n",
            " [0.30493274]\n",
            " [0.30044843]\n",
            " [0.2690583 ]\n",
            " [0.26457399]\n",
            " [0.30493274]\n",
            " [0.31838565]\n",
            " [0.31838565]\n",
            " [0.24215247]\n",
            " [0.26008969]\n",
            " [0.28251121]\n",
            " [0.30044843]\n",
            " [0.30044843]\n",
            " [0.25560538]\n",
            " [0.21524664]\n",
            " [0.19282511]\n",
            " [0.19282511]\n",
            " [0.17040359]\n",
            " [0.1838565 ]\n",
            " [0.1793722 ]\n",
            " [0.17488789]\n",
            " [0.1838565 ]\n",
            " [0.1838565 ]\n",
            " [0.15695067]\n",
            " [0.19730942]\n",
            " [0.18834081]\n",
            " [0.1838565 ]\n",
            " [0.16143498]\n",
            " [0.11210762]\n",
            " [0.13004484]\n",
            " [0.13004484]\n",
            " [0.14349776]\n",
            " [0.13452915]\n",
            " [0.1793722 ]\n",
            " [0.13901345]\n",
            " [0.12556054]\n",
            " [0.12107623]\n",
            " [0.16591928]\n",
            " [0.17488789]\n",
            " [0.21076233]\n",
            " [0.23318386]\n",
            " [0.23318386]\n",
            " [0.22869955]\n",
            " [0.22869955]\n",
            " [0.18834081]\n",
            " [0.16143498]\n",
            " [0.12556054]\n",
            " [0.13901345]\n",
            " [0.14349776]\n",
            " [0.13901345]\n",
            " [0.10762332]\n",
            " [0.0941704 ]\n",
            " [0.0941704 ]\n",
            " [0.0896861 ]\n",
            " [0.11659193]\n",
            " [0.15246637]\n",
            " [0.04484305]\n",
            " [0.        ]\n",
            " [0.05829596]\n",
            " [0.07174888]\n",
            " [0.04932735]\n",
            " [0.03139013]\n",
            " [0.08520179]\n",
            " [0.09865471]\n",
            " [0.0896861 ]\n",
            " [0.07623318]\n",
            " [0.08071749]\n",
            " [0.10762332]\n",
            " [0.14798206]\n",
            " [0.13004484]\n",
            " [0.11659193]\n",
            " [0.05829596]\n",
            " [0.0941704 ]\n",
            " [0.09865471]\n",
            " [0.09865471]\n",
            " [0.15246637]\n",
            " [0.13901345]\n",
            " [0.16591928]\n",
            " [0.20627803]\n",
            " [0.21076233]\n",
            " [0.21076233]\n",
            " [0.28251121]\n",
            " [0.29147982]\n",
            " [0.2735426 ]\n",
            " [0.2690583 ]\n",
            " [0.26457399]\n",
            " [0.32735426]\n",
            " [0.30493274]\n",
            " [0.31390135]\n",
            " [0.28251121]\n",
            " [0.14349776]\n",
            " [0.23766816]\n",
            " [0.23766816]\n",
            " [0.23318386]\n",
            " [0.24663677]\n",
            " [0.17488789]\n",
            " [0.15695067]\n",
            " [0.15246637]\n",
            " [0.15246637]\n",
            " [0.13004484]\n",
            " [0.10313901]\n",
            " [0.15246637]\n",
            " [0.12107623]\n",
            " [0.10762332]\n",
            " [0.10762332]\n",
            " [0.04932735]\n",
            " [0.04932735]\n",
            " [0.12107623]\n",
            " [0.18834081]\n",
            " [0.12107623]\n",
            " [0.02690583]\n",
            " [0.04932735]]\n"
          ],
          "name": "stdout"
        }
      ]
    },
    {
      "cell_type": "markdown",
      "metadata": {
        "id": "1RgLqTwLjp3t",
        "colab_type": "text"
      },
      "source": [
        "### Normalizing the Data"
      ]
    },
    {
      "cell_type": "code",
      "metadata": {
        "id": "j9cYrmA0QUhP",
        "colab_type": "code",
        "colab": {}
      },
      "source": [
        "# Scale the data to be between 0 and 1\n",
        "# When scaling remember! You normalize both test and train data with respect to training data\n",
        "# Because you are not supposed to have access to test data\n",
        "#scaler = MinMaxScaler()\n",
        "\n",
        "# reshape input to be 3D [samples, timesteps, features]\n",
        "#X_train = X_train.values.reshape((X_train.shape[0], 1, X_train.shape[1]))\n",
        "#X_test = X_test.values.reshape((X_test.shape[0], 1, X_test.shape[1]))\n",
        "#print(X_train.shape, y_train.shape, X_test.shape, y_test.shape)"
      ],
      "execution_count": 0,
      "outputs": []
    },
    {
      "cell_type": "code",
      "metadata": {
        "id": "LI16ZgOBs3Tg",
        "colab_type": "code",
        "outputId": "cfcc0ada-df8d-4d55-ae44-ecb9624b506d",
        "colab": {
          "base_uri": "https://localhost:8080/",
          "height": 134
        }
      },
      "source": [
        "#creating data structure with 60 time steps and 1 output\n",
        "X_train = []\n",
        "y_train = []\n",
        "\n",
        "for i in range(60, len(train_data_scaled)):\n",
        "  X_train.append(train_data_scaled[i-60:i,0])\n",
        "  y_train.append(train_data_scaled[i,0])\n",
        "  \n",
        "X_train, y_train = np.array(X_train), np.array(y_train)\n",
        "\n",
        "print(X_train)"
      ],
      "execution_count": 0,
      "outputs": [
        {
          "output_type": "stream",
          "text": [
            "[[0.1589214  0.15777395 0.14687321 ... 0.04532415 0.05163511 0.04589788]\n",
            " [0.15777395 0.14687321 0.16465863 ... 0.05163511 0.04589788 0.04704532]\n",
            " [0.14687321 0.16465863 0.16924842 ... 0.04589788 0.04704532 0.04934022]\n",
            " ...\n",
            " [0.11474469 0.1124498  0.11933448 ... 0.14859438 0.15203672 0.15203672]\n",
            " [0.1124498  0.11933448 0.1199082  ... 0.15203672 0.15203672 0.13597246]\n",
            " [0.11933448 0.1199082  0.12679289 ... 0.15203672 0.13597246 0.11761331]]\n"
          ],
          "name": "stdout"
        }
      ]
    },
    {
      "cell_type": "code",
      "metadata": {
        "id": "YGV3wHhUEi5_",
        "colab_type": "code",
        "outputId": "2918fcd3-da30-4b8a-e2e0-411b375eb8d0",
        "colab": {
          "base_uri": "https://localhost:8080/",
          "height": 34
        }
      },
      "source": [
        "print(y_train)"
      ],
      "execution_count": 0,
      "outputs": [
        {
          "output_type": "stream",
          "text": [
            "[0.04704532 0.04934022 0.05393001 ... 0.13597246 0.11761331 0.12621916]\n"
          ],
          "name": "stdout"
        }
      ]
    },
    {
      "cell_type": "code",
      "metadata": {
        "id": "qLpbGWXVwlB1",
        "colab_type": "code",
        "outputId": "d12c0fc2-8952-4daa-9af9-f01b92ac1d9d",
        "colab": {
          "base_uri": "https://localhost:8080/",
          "height": 34
        }
      },
      "source": [
        "# reshaping\n",
        "# 3D tensor with shape (batch_size, timesteps, input_dim).\n",
        "\n",
        "X_train = np.reshape(X_train, (X_train.shape[0], X_train.shape[1], 1))\n",
        "print(X_train.shape)"
      ],
      "execution_count": 0,
      "outputs": [
        {
          "output_type": "stream",
          "text": [
            "(5470, 60, 1)\n"
          ],
          "name": "stdout"
        }
      ]
    },
    {
      "cell_type": "code",
      "metadata": {
        "id": "UZk1LTvHl5WW",
        "colab_type": "code",
        "colab": {}
      },
      "source": [
        "from sklearn import metrics # for the check the error and accuracy of the model\n",
        "from sklearn.metrics import mean_squared_error,r2_score\n",
        "\n",
        "## for Deep-learing:\n",
        "#from keras.layers import Dense, Dropout, LSTM\n",
        "#from keras.models import Sequential\n",
        "#from keras.optimizers import SGD \n",
        "#from keras.callbacks import EarlyStopping\n",
        "#from keras.utils import np_utils\n",
        "#import itertools\n"
      ],
      "execution_count": 0,
      "outputs": []
    },
    {
      "cell_type": "code",
      "metadata": {
        "id": "9vkhA75rMbXR",
        "colab_type": "code",
        "outputId": "b9d2c86f-b52f-4f1d-dac5-fa5c3651b934",
        "colab": {
          "base_uri": "https://localhost:8080/",
          "height": 133
        }
      },
      "source": [
        "import tensorflow.compat.v1 as tf\n",
        "tf.disable_v2_behavior()\n",
        "from tensorflow.keras import layers\n",
        "from tensorflow.keras.layers import Dense, Dropout, LSTM\n",
        "from tensorflow.keras.callbacks import EarlyStopping"
      ],
      "execution_count": 0,
      "outputs": [
        {
          "output_type": "display_data",
          "data": {
            "text/html": [
              "<p style=\"color: red;\">\n",
              "The default version of TensorFlow in Colab will soon switch to TensorFlow 2.x.<br>\n",
              "We recommend you <a href=\"https://www.tensorflow.org/guide/migrate\" target=\"_blank\">upgrade</a> now \n",
              "or ensure your notebook will continue to use TensorFlow 1.x via the <code>%tensorflow_version 1.x</code> magic:\n",
              "<a href=\"https://colab.research.google.com/notebooks/tensorflow_version.ipynb\" target=\"_blank\">more info</a>.</p>\n"
            ],
            "text/plain": [
              "<IPython.core.display.HTML object>"
            ]
          },
          "metadata": {
            "tags": []
          }
        },
        {
          "output_type": "stream",
          "text": [
            "WARNING:tensorflow:From /usr/local/lib/python3.6/dist-packages/tensorflow_core/python/compat/v2_compat.py:68: disable_resource_variables (from tensorflow.python.ops.variable_scope) is deprecated and will be removed in a future version.\n",
            "Instructions for updating:\n",
            "non-resource variables are not supported in the long term\n"
          ],
          "name": "stdout"
        }
      ]
    },
    {
      "cell_type": "code",
      "metadata": {
        "id": "xgwDDHqQhT5z",
        "colab_type": "code",
        "outputId": "52e1aeea-a500-48b0-ba30-e7a102e7179d",
        "colab": {
          "base_uri": "https://localhost:8080/",
          "height": 1000
        }
      },
      "source": [
        "#Build the model\n",
        "\n",
        "# initializing RNN\n",
        "model = tf.keras.Sequential()\n",
        "\n",
        "# adding 1st LSTM layer and some dropout regularization\n",
        "model.add(tf.keras.layers.LSTM(units=50, input_shape=(X_train.shape[1], 1), return_sequences=True, activation = 'relu'))\n",
        "model.add(tf.keras.layers.Dropout(0.2))\n",
        "\n",
        "# adding 2nd LSTM layer and some dropout regularization\n",
        "model.add(tf.keras.layers.LSTM(units=50, return_sequences=True))\n",
        "model.add(tf.keras.layers.Dropout(0.2))\n",
        "\n",
        "# adding 3rd LSTM layer and some dropout regularization\n",
        "model.add(tf.keras.layers.LSTM(units=50, return_sequences=True))\n",
        "model.add(tf.keras.layers.Dropout(0.2))\n",
        "\n",
        "# adding 4th LSTM layer and some dropout regularization\n",
        "model.add(tf.keras.layers.LSTM(units=50))\n",
        "model.add(tf.keras.layers.Dropout(0.2))\n",
        "\n",
        "# adding output layer\n",
        "model.add(tf.keras.layers.Dense(units=1))\n",
        "\n",
        "#compiling RNN\n",
        "model.compile(loss='mean_squared_error', optimizer='adam')\n",
        "\n",
        "early_stopping = EarlyStopping(monitor='loss', patience=10)\n",
        "\n",
        "# fitting RNN on training set\n",
        "model.fit(X_train, y_train, epochs= 100, batch_size=32, verbose=2, callbacks=[early_stopping])"
      ],
      "execution_count": 0,
      "outputs": [
        {
          "output_type": "stream",
          "text": [
            "WARNING:tensorflow:From /usr/local/lib/python3.6/dist-packages/tensorflow_core/python/ops/resource_variable_ops.py:1630: calling BaseResourceVariable.__init__ (from tensorflow.python.ops.resource_variable_ops) with constraint is deprecated and will be removed in a future version.\n",
            "Instructions for updating:\n",
            "If using Keras pass *_constraint arguments to layers.\n",
            "WARNING:tensorflow:From /usr/local/lib/python3.6/dist-packages/tensorflow_core/python/ops/math_grad.py:1424: where (from tensorflow.python.ops.array_ops) is deprecated and will be removed in a future version.\n",
            "Instructions for updating:\n",
            "Use tf.where in 2.0, which has the same broadcast rule as np.where\n",
            "Train on 5470 samples\n",
            "Epoch 1/100\n",
            "5470/5470 - 69s - loss: 0.0035\n",
            "Epoch 2/100\n",
            "5470/5470 - 62s - loss: 0.0017\n",
            "Epoch 3/100\n",
            "5470/5470 - 63s - loss: 0.0014\n",
            "Epoch 4/100\n",
            "5470/5470 - 61s - loss: 0.0012\n",
            "Epoch 5/100\n",
            "5470/5470 - 61s - loss: 0.0011\n",
            "Epoch 6/100\n",
            "5470/5470 - 61s - loss: 0.0012\n",
            "Epoch 7/100\n",
            "5470/5470 - 61s - loss: 0.0010\n",
            "Epoch 8/100\n",
            "5470/5470 - 61s - loss: 9.8684e-04\n",
            "Epoch 9/100\n",
            "5470/5470 - 62s - loss: 9.7194e-04\n",
            "Epoch 10/100\n",
            "5470/5470 - 61s - loss: 8.9248e-04\n",
            "Epoch 11/100\n",
            "5470/5470 - 63s - loss: 7.9995e-04\n",
            "Epoch 12/100\n",
            "5470/5470 - 61s - loss: 8.7190e-04\n",
            "Epoch 13/100\n",
            "5470/5470 - 63s - loss: 8.2699e-04\n",
            "Epoch 14/100\n",
            "5470/5470 - 61s - loss: 8.0140e-04\n",
            "Epoch 15/100\n",
            "5470/5470 - 62s - loss: 7.6211e-04\n",
            "Epoch 16/100\n",
            "5470/5470 - 61s - loss: 7.5906e-04\n",
            "Epoch 17/100\n",
            "5470/5470 - 61s - loss: 7.2197e-04\n",
            "Epoch 18/100\n",
            "5470/5470 - 61s - loss: 7.0653e-04\n",
            "Epoch 19/100\n",
            "5470/5470 - 61s - loss: 7.4010e-04\n",
            "Epoch 20/100\n",
            "5470/5470 - 60s - loss: 7.2915e-04\n",
            "Epoch 21/100\n",
            "5470/5470 - 61s - loss: 6.5982e-04\n",
            "Epoch 22/100\n",
            "5470/5470 - 60s - loss: 6.5464e-04\n",
            "Epoch 23/100\n",
            "5470/5470 - 62s - loss: 6.8448e-04\n",
            "Epoch 24/100\n",
            "5470/5470 - 63s - loss: 6.7782e-04\n",
            "Epoch 25/100\n",
            "5470/5470 - 62s - loss: 6.5805e-04\n",
            "Epoch 26/100\n",
            "5470/5470 - 62s - loss: 6.4022e-04\n",
            "Epoch 27/100\n",
            "5470/5470 - 61s - loss: 6.2490e-04\n",
            "Epoch 28/100\n",
            "5470/5470 - 61s - loss: 6.0691e-04\n",
            "Epoch 29/100\n",
            "5470/5470 - 62s - loss: 5.8251e-04\n",
            "Epoch 30/100\n",
            "5470/5470 - 61s - loss: 5.9385e-04\n",
            "Epoch 31/100\n",
            "5470/5470 - 62s - loss: 5.8782e-04\n",
            "Epoch 32/100\n",
            "5470/5470 - 61s - loss: 6.2306e-04\n",
            "Epoch 33/100\n",
            "5470/5470 - 62s - loss: 6.4398e-04\n",
            "Epoch 34/100\n",
            "5470/5470 - 61s - loss: 6.1967e-04\n",
            "Epoch 35/100\n",
            "5470/5470 - 62s - loss: 5.5348e-04\n",
            "Epoch 36/100\n",
            "5470/5470 - 61s - loss: 5.6757e-04\n",
            "Epoch 37/100\n",
            "5470/5470 - 62s - loss: 6.1134e-04\n",
            "Epoch 38/100\n",
            "5470/5470 - 61s - loss: 5.4881e-04\n",
            "Epoch 39/100\n",
            "5470/5470 - 62s - loss: 5.2765e-04\n",
            "Epoch 40/100\n",
            "5470/5470 - 61s - loss: 5.5389e-04\n",
            "Epoch 41/100\n",
            "5470/5470 - 61s - loss: 5.1727e-04\n",
            "Epoch 42/100\n",
            "5470/5470 - 61s - loss: 5.3831e-04\n",
            "Epoch 43/100\n",
            "5470/5470 - 62s - loss: 5.6458e-04\n",
            "Epoch 44/100\n",
            "5470/5470 - 61s - loss: 4.8287e-04\n",
            "Epoch 45/100\n",
            "5470/5470 - 61s - loss: 5.3051e-04\n",
            "Epoch 46/100\n",
            "5470/5470 - 61s - loss: 5.1818e-04\n",
            "Epoch 47/100\n",
            "5470/5470 - 63s - loss: 5.2448e-04\n",
            "Epoch 48/100\n",
            "5470/5470 - 63s - loss: 5.2462e-04\n",
            "Epoch 49/100\n",
            "5470/5470 - 63s - loss: 5.0501e-04\n",
            "Epoch 50/100\n",
            "5470/5470 - 62s - loss: 5.0982e-04\n",
            "Epoch 51/100\n",
            "5470/5470 - 61s - loss: 4.9984e-04\n",
            "Epoch 52/100\n",
            "5470/5470 - 61s - loss: 4.8766e-04\n",
            "Epoch 53/100\n",
            "5470/5470 - 61s - loss: 5.0589e-04\n",
            "Epoch 54/100\n",
            "5470/5470 - 62s - loss: 5.1568e-04\n"
          ],
          "name": "stdout"
        },
        {
          "output_type": "execute_result",
          "data": {
            "text/plain": [
              "<tensorflow.python.keras.callbacks.History at 0x7f5765774dd8>"
            ]
          },
          "metadata": {
            "tags": []
          },
          "execution_count": 27
        }
      ]
    },
    {
      "cell_type": "code",
      "metadata": {
        "id": "6mpdA9PL0stF",
        "colab_type": "code",
        "outputId": "f1d103b2-1f70-4ef7-db83-367fd9f0a069",
        "colab": {
          "base_uri": "https://localhost:8080/",
          "height": 1000
        }
      },
      "source": [
        "test_data_scaled = scaler.fit_transform(test_data)\n",
        "print(test_data_scaled)"
      ],
      "execution_count": 0,
      "outputs": [
        {
          "output_type": "stream",
          "text": [
            "[[0.55156951]\n",
            " [0.31390135]\n",
            " [0.34977578]\n",
            " [0.32286996]\n",
            " [0.39013453]\n",
            " [0.40358744]\n",
            " [0.41704036]\n",
            " [0.41704036]\n",
            " [0.60089686]\n",
            " [0.68161435]\n",
            " [0.69955157]\n",
            " [0.69955157]\n",
            " [0.632287  ]\n",
            " [0.632287  ]\n",
            " [0.49775785]\n",
            " [0.49775785]\n",
            " [0.47085202]\n",
            " [0.46188341]\n",
            " [0.41255605]\n",
            " [0.43946188]\n",
            " [0.35874439]\n",
            " [0.30493274]\n",
            " [0.24663677]\n",
            " [0.23318386]\n",
            " [0.25112108]\n",
            " [0.2690583 ]\n",
            " [0.28699552]\n",
            " [0.33183857]\n",
            " [0.30941704]\n",
            " [0.26457399]\n",
            " [0.26457399]\n",
            " [0.25560538]\n",
            " [0.30044843]\n",
            " [0.30044843]\n",
            " [0.31838565]\n",
            " [0.32286996]\n",
            " [0.367713  ]\n",
            " [0.32286996]\n",
            " [0.39013453]\n",
            " [0.39013453]\n",
            " [0.52466368]\n",
            " [1.        ]\n",
            " [0.52017937]\n",
            " [0.52017937]\n",
            " [0.39461883]\n",
            " [0.39461883]\n",
            " [0.37668161]\n",
            " [0.3632287 ]\n",
            " [0.38116592]\n",
            " [0.41704036]\n",
            " [0.41704036]\n",
            " [0.39461883]\n",
            " [0.40358744]\n",
            " [0.37668161]\n",
            " [0.37668161]\n",
            " [0.32735426]\n",
            " [0.31390135]\n",
            " [0.32286996]\n",
            " [0.30044843]\n",
            " [0.30044843]\n",
            " [0.31838565]\n",
            " [0.31838565]\n",
            " [0.33183857]\n",
            " [0.32286996]\n",
            " [0.28699552]\n",
            " [0.2690583 ]\n",
            " [0.31390135]\n",
            " [0.30941704]\n",
            " [0.31390135]\n",
            " [0.31390135]\n",
            " [0.32735426]\n",
            " [0.32735426]\n",
            " [0.28699552]\n",
            " [0.23766816]\n",
            " [0.23318386]\n",
            " [0.26457399]\n",
            " [0.22869955]\n",
            " [0.22869955]\n",
            " [0.23318386]\n",
            " [0.25112108]\n",
            " [0.25112108]\n",
            " [0.25560538]\n",
            " [0.25560538]\n",
            " [0.2735426 ]\n",
            " [0.25560538]\n",
            " [0.23318386]\n",
            " [0.23318386]\n",
            " [0.27802691]\n",
            " [0.2690583 ]\n",
            " [0.27802691]\n",
            " [0.30941704]\n",
            " [0.30493274]\n",
            " [0.30044843]\n",
            " [0.2690583 ]\n",
            " [0.26457399]\n",
            " [0.30493274]\n",
            " [0.31838565]\n",
            " [0.31838565]\n",
            " [0.24215247]\n",
            " [0.26008969]\n",
            " [0.28251121]\n",
            " [0.30044843]\n",
            " [0.30044843]\n",
            " [0.25560538]\n",
            " [0.21524664]\n",
            " [0.19282511]\n",
            " [0.19282511]\n",
            " [0.17040359]\n",
            " [0.1838565 ]\n",
            " [0.1793722 ]\n",
            " [0.17488789]\n",
            " [0.1838565 ]\n",
            " [0.1838565 ]\n",
            " [0.15695067]\n",
            " [0.19730942]\n",
            " [0.18834081]\n",
            " [0.1838565 ]\n",
            " [0.16143498]\n",
            " [0.11210762]\n",
            " [0.13004484]\n",
            " [0.13004484]\n",
            " [0.14349776]\n",
            " [0.13452915]\n",
            " [0.1793722 ]\n",
            " [0.13901345]\n",
            " [0.12556054]\n",
            " [0.12107623]\n",
            " [0.16591928]\n",
            " [0.17488789]\n",
            " [0.21076233]\n",
            " [0.23318386]\n",
            " [0.23318386]\n",
            " [0.22869955]\n",
            " [0.22869955]\n",
            " [0.18834081]\n",
            " [0.16143498]\n",
            " [0.12556054]\n",
            " [0.13901345]\n",
            " [0.14349776]\n",
            " [0.13901345]\n",
            " [0.10762332]\n",
            " [0.0941704 ]\n",
            " [0.0941704 ]\n",
            " [0.0896861 ]\n",
            " [0.11659193]\n",
            " [0.15246637]\n",
            " [0.04484305]\n",
            " [0.        ]\n",
            " [0.05829596]\n",
            " [0.07174888]\n",
            " [0.04932735]\n",
            " [0.03139013]\n",
            " [0.08520179]\n",
            " [0.09865471]\n",
            " [0.0896861 ]\n",
            " [0.07623318]\n",
            " [0.08071749]\n",
            " [0.10762332]\n",
            " [0.14798206]\n",
            " [0.13004484]\n",
            " [0.11659193]\n",
            " [0.05829596]\n",
            " [0.0941704 ]\n",
            " [0.09865471]\n",
            " [0.09865471]\n",
            " [0.15246637]\n",
            " [0.13901345]\n",
            " [0.16591928]\n",
            " [0.20627803]\n",
            " [0.21076233]\n",
            " [0.21076233]\n",
            " [0.28251121]\n",
            " [0.29147982]\n",
            " [0.2735426 ]\n",
            " [0.2690583 ]\n",
            " [0.26457399]\n",
            " [0.32735426]\n",
            " [0.30493274]\n",
            " [0.31390135]\n",
            " [0.28251121]\n",
            " [0.14349776]\n",
            " [0.23766816]\n",
            " [0.23766816]\n",
            " [0.23318386]\n",
            " [0.24663677]\n",
            " [0.17488789]\n",
            " [0.15695067]\n",
            " [0.15246637]\n",
            " [0.15246637]\n",
            " [0.13004484]\n",
            " [0.10313901]\n",
            " [0.15246637]\n",
            " [0.12107623]\n",
            " [0.10762332]\n",
            " [0.10762332]\n",
            " [0.04932735]\n",
            " [0.04932735]\n",
            " [0.12107623]\n",
            " [0.18834081]\n",
            " [0.12107623]\n",
            " [0.02690583]\n",
            " [0.04932735]]\n"
          ],
          "name": "stdout"
        }
      ]
    },
    {
      "cell_type": "code",
      "metadata": {
        "id": "ctvURxhXAI9b",
        "colab_type": "code",
        "colab": {}
      },
      "source": [
        "dataset_total = pd.concat((train_data, test_data), axis=0)"
      ],
      "execution_count": 0,
      "outputs": []
    },
    {
      "cell_type": "code",
      "metadata": {
        "id": "xpy4b5oO6A5I",
        "colab_type": "code",
        "colab": {}
      },
      "source": [
        "# getting the predited natuaral gas price of 2019\n",
        "\n",
        "inputs = dataset_total[len(dataset_total) - len(test_data)- 60:].values\n",
        "inputs = inputs.reshape(-1,1)\n",
        "inputs = scaler.transform(inputs)\n",
        "\n",
        "X_test = []\n",
        "y_test = []\n",
        "\n",
        "for i in range (60, 200):\n",
        "  X_test.append(inputs[i-60:i, 0])\n",
        "  y_test.append(test_data_scaled[i,0])\n",
        "  \n",
        "X_test, y_test = np.array(X_test), np.array(y_test)\n",
        "X_test = np.reshape(X_test, (X_test.shape[0], X_test.shape[1], 1))\n"
      ],
      "execution_count": 0,
      "outputs": []
    },
    {
      "cell_type": "code",
      "metadata": {
        "id": "n9v_jo3AzyFt",
        "colab_type": "code",
        "outputId": "2f287c46-15be-4fad-c8d3-2436da96918f",
        "colab": {
          "base_uri": "https://localhost:8080/",
          "height": 50
        }
      },
      "source": [
        "# make predictions\n",
        "trainPredict = model.predict(X_train)\n",
        "testPredict = model.predict(X_test)\n",
        "\n",
        "# invert predictions\n",
        "trainPredict = scaler.inverse_transform(trainPredict)\n",
        "trainY = scaler.inverse_transform([y_train])\n",
        "testPredict = scaler.inverse_transform(testPredict)\n",
        "testY = scaler.inverse_transform([y_test])\n",
        "\n",
        "# calculate root mean squared error\n",
        "trainScore = math.sqrt(mean_squared_error(trainY[0], trainPredict[:,0]))\n",
        "print('Train Score: %.2f RMSE' % (trainScore))\n",
        "testScore = math.sqrt(mean_squared_error(testY[0], testPredict[:,0]))\n",
        "print('Test Score: %.2f RMSE' % (testScore))"
      ],
      "execution_count": 0,
      "outputs": [
        {
          "output_type": "stream",
          "text": [
            "Train Score: 0.04 RMSE\n",
            "Test Score: 0.32 RMSE\n"
          ],
          "name": "stdout"
        }
      ]
    },
    {
      "cell_type": "code",
      "metadata": {
        "id": "F1MOu6-pDh7F",
        "colab_type": "code",
        "outputId": "45437d1d-4ae0-4e3e-d8e8-bed6027a0f4c",
        "colab": {
          "base_uri": "https://localhost:8080/",
          "height": 50
        }
      },
      "source": [
        "def rmsle(testPredict, testY) :\n",
        "  error = np.square(np.log10(testPredict +1) - np.log10(testY +1)).mean() ** 0.5\n",
        "  Acc = 1 - error\n",
        "  return Acc\n",
        "\n",
        "print(\"Accuracy attained on Training Set = \",rmsle(trainPredict, trainY))\n",
        "print(\"Accuracy attained on Test Set = \", rmsle(testPredict,testY))"
      ],
      "execution_count": 0,
      "outputs": [
        {
          "output_type": "stream",
          "text": [
            "Accuracy attained on Training Set =  0.9541387174058177\n",
            "Accuracy attained on Test Set =  0.9557776351133617\n"
          ],
          "name": "stdout"
        }
      ]
    },
    {
      "cell_type": "code",
      "metadata": {
        "id": "Lt_hLJQyjvvz",
        "colab_type": "code",
        "outputId": "32f7b86a-6254-4571-c389-c39b162ea521",
        "colab": {
          "base_uri": "https://localhost:8080/",
          "height": 295
        }
      },
      "source": [
        "plt.plot(test_data.values, color = 'red', label =\"Actual Natural Gas Price\")\n",
        "plt.plot(testPredict, color='blue', label = 'Predicted Price')\n",
        "plt.title(\"Natural Gas Price Prediction\")\n",
        "plt.xlabel('Time')\n",
        "plt.ylabel('Natural gas price')\n",
        "plt.legend(loc='best')\n",
        "plt.show()"
      ],
      "execution_count": 0,
      "outputs": [
        {
          "output_type": "display_data",
          "data": {
            "image/png": "[encoded data removed]",
            "text/plain": [
              "<Figure size 432x288 with 1 Axes>"
            ]
          },
          "metadata": {
            "tags": []
          }
        }
      ]
    },
    {
      "cell_type": "code",
      "metadata": {
        "id": "vQNsI1FrvghC",
        "colab_type": "code",
        "outputId": "d84b939b-4483-4e3d-f8b8-876d1ae06446",
        "colab": {
          "base_uri": "https://localhost:8080/",
          "height": 34
        }
      },
      "source": [
        "#rmse\n",
        "rms=np.sqrt(np.mean(np.power((np.array(y_test)-np.array(testPredict)),2)))\n",
        "rms"
      ],
      "execution_count": 0,
      "outputs": [
        {
          "output_type": "execute_result",
          "data": {
            "text/plain": [
              "2.5054728955672054"
            ]
          },
          "metadata": {
            "tags": []
          },
          "execution_count": 100
        }
      ]
    },
    {
      "cell_type": "markdown",
      "metadata": {
        "id": "dIJzaVlZn6V0",
        "colab_type": "text"
      },
      "source": [
        "## I have tried XGBoost with same set-up as below:"
      ]
    },
    {
      "cell_type": "code",
      "metadata": {
        "id": "dN-DpV8s5dwG",
        "colab_type": "code",
        "colab": {}
      },
      "source": [
        "from xgboost import XGBRegressor "
      ],
      "execution_count": 0,
      "outputs": []
    },
    {
      "cell_type": "code",
      "metadata": {
        "id": "hzRViDKW4Pby",
        "colab_type": "code",
        "colab": {}
      },
      "source": [
        "dataset_total = pd.concat((train_data, test_data), axis=0)\n",
        "\n",
        "inputs = dataset_total[len(dataset_total) - len(test_data)- 60:].values\n",
        "inputs = inputs.reshape(-1,1)\n",
        "inputs = scaler.transform(inputs)\n",
        "\n",
        "X_test = []\n",
        "y_test = []\n",
        "\n",
        "for i in range (60, 200):\n",
        "  X_test.append(inputs[i-60:i, 0])\n",
        "  y_test.append(test_data_scaled[i,0])\n",
        "  \n",
        "X_test, y_test = np.array(X_test), np.array(y_test)"
      ],
      "execution_count": 0,
      "outputs": []
    },
    {
      "cell_type": "code",
      "metadata": {
        "id": "yYD1I31X7sMr",
        "colab_type": "code",
        "colab": {}
      },
      "source": [
        "import math\n",
        "import numpy as np\n",
        "from sklearn.metrics import mean_squared_error\n",
        "from xgboost import XGBRegressor\n",
        "import xgboost as xgb\n",
        "from sklearn.metrics import accuracy_score\n"
      ],
      "execution_count": 0,
      "outputs": []
    },
    {
      "cell_type": "code",
      "metadata": {
        "id": "FgCiETZ5cX24",
        "colab_type": "code",
        "outputId": "ae8349a4-5fe7-47d0-e90e-8a7c2d8ae6fb",
        "colab": {
          "base_uri": "https://localhost:8080/",
          "height": 134
        }
      },
      "source": [
        "xg_reg = xgb.XGBRegressor(objective ='reg:squarederror', colsample_bytree = 0.3, learning_rate = 0.1,\n",
        "                max_depth = 5, alpha = 10, n_estimators = 10)\n",
        "\n",
        "xg_reg.fit(X_train,y_train)"
      ],
      "execution_count": 0,
      "outputs": [
        {
          "output_type": "execute_result",
          "data": {
            "text/plain": [
              "XGBRegressor(alpha=10, base_score=0.5, booster='gbtree', colsample_bylevel=1,\n",
              "             colsample_bynode=1, colsample_bytree=0.3, gamma=0,\n",
              "             importance_type='gain', learning_rate=0.1, max_delta_step=0,\n",
              "             max_depth=5, min_child_weight=1, missing=None, n_estimators=10,\n",
              "             n_jobs=1, nthread=None, objective='reg:squarederror',\n",
              "             random_state=0, reg_alpha=0, reg_lambda=1, scale_pos_weight=1,\n",
              "             seed=None, silent=None, subsample=1, verbosity=1)"
            ]
          },
          "metadata": {
            "tags": []
          },
          "execution_count": 18
        }
      ]
    },
    {
      "cell_type": "code",
      "metadata": {
        "id": "YIVyGCLRfe39",
        "colab_type": "code",
        "outputId": "c5224783-3543-4fe9-c49b-f1dbec8b35f1",
        "colab": {
          "base_uri": "https://localhost:8080/",
          "height": 50
        }
      },
      "source": [
        "train_pred = xg_reg.predict(X_train)\n",
        "rmse = np.sqrt(mean_squared_error(y_train, train_pred))\n",
        "print(\"RMSE_train: %f\" % (rmse))\n",
        "\n",
        "test_pred = xg_reg.predict(X_test)\n",
        "rmse = np.sqrt(mean_squared_error(y_test, test_pred))\n",
        "print(\"RMSE_test: %f\" % (rmse))"
      ],
      "execution_count": 0,
      "outputs": [
        {
          "output_type": "stream",
          "text": [
            "RMSE_train: 0.118546\n",
            "RMSE_test: 0.203718\n"
          ],
          "name": "stdout"
        }
      ]
    },
    {
      "cell_type": "code",
      "metadata": {
        "id": "TZ5nkv3KpXLj",
        "colab_type": "code",
        "colab": {}
      },
      "source": [
        "train_pred= train_pred.reshape(-1, 1)\n",
        "test_pred= test_pred.reshape(-1, 1)"
      ],
      "execution_count": 0,
      "outputs": []
    },
    {
      "cell_type": "code",
      "metadata": {
        "id": "fFK8aFjcj8pC",
        "colab_type": "code",
        "colab": {}
      },
      "source": [
        "# invert predictions\n",
        "train_pred = scaler.inverse_transform(train_pred)\n",
        "trainY = scaler.inverse_transform([y_train])\n",
        "test_pred = scaler.inverse_transform(test_pred)\n",
        "testY = scaler.inverse_transform([y_test])"
      ],
      "execution_count": 0,
      "outputs": []
    },
    {
      "cell_type": "code",
      "metadata": {
        "id": "b-Tzyzt_jiBF",
        "colab_type": "code",
        "outputId": "095a90ae-3589-45fb-9f9c-dc0382145985",
        "colab": {
          "base_uri": "https://localhost:8080/",
          "height": 295
        }
      },
      "source": [
        "plt.plot(test_data.values, color = 'red', label =\"Actual Natural Gas Price\")\n",
        "plt.plot(test_pred, color='blue', label = 'Predicted Price')\n",
        "plt.title(\"Natural Gas Price Prediction\")\n",
        "plt.xlabel('Time')\n",
        "plt.ylabel('Natural gas price')\n",
        "plt.legend(loc='best')\n",
        "plt.show()"
      ],
      "execution_count": 0,
      "outputs": [
        {
          "output_type": "display_data",
          "data": {
            "image/png": "[encoded data removed]",
            "text/plain": [
              "<Figure size 432x288 with 1 Axes>"
            ]
          },
          "metadata": {
            "tags": []
          }
        }
      ]
    }
  ]
}